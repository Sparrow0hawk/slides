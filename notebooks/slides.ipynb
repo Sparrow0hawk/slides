{
 "cells": [
  {
   "cell_type": "markdown",
   "id": "59667580",
   "metadata": {
    "slideshow": {
     "slide_type": "slide"
    }
   },
   "source": [
    "# Reproducible notebooks for text analytics"
   ]
  },
  {
   "cell_type": "markdown",
   "id": "1328e008",
   "metadata": {
    "slideshow": {
     "slide_type": "slide"
    }
   },
   "source": [
    "## Whoami \n",
    "\n",
    "- Research Software Engineer\n",
    "- Part of the Research Computing team in Central IT\n",
    "- Background in Python/R/data science with a sprinkle of NLP\n",
    "\n",
    "<ul style=\"list-style: none; display: grid;grid-template-columns: 1fr 1fr;\">\n",
    "    <li>\n",
    "<a href=\"https://arc.leeds.ac.uk\"><img src=\"https://camo.githubusercontent.com/9629ee9d7f8e95d3717cba69dd0038be9111ccc33dd1429e33bcbc9e9756b8b3/68747470733a2f2f7261772e67697468756275736572636f6e74656e742e636f6d2f4152434c656564732f6172636c656564732e6769746875622e696f2f6d61737465722f6173736574732f696d672f6c696768746572626c7565546578745f774c6f676f5f6d322e312e706e67\" style=\"height: 50px;\"></a></li>\n",
    "\n",
    "<li><a href=\"https://github.com/ARCLeeds\"><img src=\"https://cdn4.iconfinder.com/data/icons/iconsimple-logotypes/512/github-512.png\" style=\"height: 50px;\"></a></li>\n",
    "    </ul>\n"
   ]
  },
  {
   "cell_type": "markdown",
   "id": "3cdc5a18",
   "metadata": {
    "slideshow": {
     "slide_type": "slide"
    }
   },
   "source": [
    "## What are notebooks?\n",
    "\n"
   ]
  },
  {
   "cell_type": "markdown",
   "id": "cd3008e9",
   "metadata": {
    "slideshow": {
     "slide_type": "slide"
    }
   },
   "source": [
    "Notebooks are text documents composed of json that contain both code, markup text and other graphical elements (images, videos, plots, widgets)."
   ]
  },
  {
   "cell_type": "markdown",
   "id": "85def597",
   "metadata": {
    "slideshow": {
     "slide_type": "fragment"
    }
   },
   "source": [
    "Notebooks are composed of:\n",
    "\n",
    "<ul>\n",
    "    <li class=\"fragment fade-up\">Code </li>\n",
    "    <li class=\"fragment fade-up\">Generated outputs </li>\n",
    "    <li class=\"fragment fade-up\">Metadata </li>\n",
    "    <li class=\"fragment fade-up\">Data </li>\n",
    " </ul>"
   ]
  },
  {
   "cell_type": "markdown",
   "id": "39173179",
   "metadata": {
    "slideshow": {
     "slide_type": "subslide"
    }
   },
   "source": [
    "### Jupyter notebooks\n",
    "\n",
    "![](./text-analytics-talk-2023/jupyter-notebook.png)\n"
   ]
  },
  {
   "cell_type": "markdown",
   "id": "52efe690",
   "metadata": {
    "slideshow": {
     "slide_type": "subslide"
    }
   },
   "source": [
    "### JupyterLab\n",
    "\n",
    "![](./text-analytics-talk-2023/jupyterlab.png)"
   ]
  },
  {
   "cell_type": "markdown",
   "id": "d9c4b21e",
   "metadata": {
    "slideshow": {
     "slide_type": "subslide"
    }
   },
   "source": [
    "### Google Colab\n",
    "\n",
    "![](./text-analytics-talk-2023/colab.png)"
   ]
  },
  {
   "cell_type": "markdown",
   "id": "8a6d389e",
   "metadata": {
    "slideshow": {
     "slide_type": "slide"
    }
   },
   "source": [
    "## Notebooks are great for text analytics\n",
    "Example of text preprocessing for [topic modelling with consumer complaints data](https://github.com/ARCTraining/ittt-ai-ml-dl/blob/master/session_3_topicsML/session3_unsup_ML.ipynb)."
   ]
  },
  {
   "cell_type": "code",
   "execution_count": 3,
   "id": "7fbcdae3",
   "metadata": {
    "slideshow": {
     "slide_type": "fragment"
    }
   },
   "outputs": [
    {
     "name": "stdout",
     "output_type": "stream",
     "text": [
      "Data directory exists\n",
      "Data file exists\n"
     ]
    }
   ],
   "source": [
    "%%bash \n",
    "\n",
    "if [ -d data/ ]; then\n",
    "    echo \"Data directory exists\"\n",
    "else\n",
    "    mkdir data\n",
    "fi\n",
    "\n",
    "if test -f data/complaints.csv; then\n",
    "    echo \"Data file exists\"\n",
    "else \n",
    "    curl -LO http://files.consumerfinance.gov/ccdb/complaints.csv.zip; mv complaints.csv.zip data/ ;unzip data/complaints.csv.zip -d data/\n",
    "fi"
   ]
  },
  {
   "cell_type": "code",
   "execution_count": 5,
   "id": "8f1da972",
   "metadata": {
    "slideshow": {
     "slide_type": "subslide"
    }
   },
   "outputs": [
    {
     "name": "stderr",
     "output_type": "stream",
     "text": [
      "/tmp/ipykernel_9219/1604837686.py:4: DtypeWarning: Columns (9,16) have mixed types. Specify dtype option on import or set low_memory=False.\n",
      "  ticket_data = pd.read_csv('data/complaints.csv')\n"
     ]
    },
    {
     "name": "stdout",
     "output_type": "stream",
     "text": [
      "(1158384, 18)\n"
     ]
    },
    {
     "data": {
      "text/html": [
       "<div>\n",
       "<style scoped>\n",
       "    .dataframe tbody tr th:only-of-type {\n",
       "        vertical-align: middle;\n",
       "    }\n",
       "\n",
       "    .dataframe tbody tr th {\n",
       "        vertical-align: top;\n",
       "    }\n",
       "\n",
       "    .dataframe thead th {\n",
       "        text-align: right;\n",
       "    }\n",
       "</style>\n",
       "<table border=\"1\" class=\"dataframe\">\n",
       "  <thead>\n",
       "    <tr style=\"text-align: right;\">\n",
       "      <th></th>\n",
       "      <th>Date received</th>\n",
       "      <th>Product</th>\n",
       "      <th>Sub-product</th>\n",
       "      <th>Issue</th>\n",
       "      <th>Sub-issue</th>\n",
       "      <th>Consumer complaint narrative</th>\n",
       "      <th>Company public response</th>\n",
       "      <th>Company</th>\n",
       "      <th>State</th>\n",
       "      <th>ZIP code</th>\n",
       "      <th>Tags</th>\n",
       "      <th>Consumer consent provided?</th>\n",
       "      <th>Submitted via</th>\n",
       "      <th>Date sent to company</th>\n",
       "      <th>Company response to consumer</th>\n",
       "      <th>Timely response?</th>\n",
       "      <th>Consumer disputed?</th>\n",
       "      <th>Complaint ID</th>\n",
       "    </tr>\n",
       "  </thead>\n",
       "  <tbody>\n",
       "    <tr>\n",
       "      <th>4</th>\n",
       "      <td>2022-12-29</td>\n",
       "      <td>Debt collection</td>\n",
       "      <td>I do not know</td>\n",
       "      <td>Attempts to collect debt not owed</td>\n",
       "      <td>Debt is not yours</td>\n",
       "      <td>I declare under penalty of perjury ( under the...</td>\n",
       "      <td>Company has responded to the consumer and the ...</td>\n",
       "      <td>Convergent Resources, Inc.</td>\n",
       "      <td>HI</td>\n",
       "      <td>96818.0</td>\n",
       "      <td>Servicemember</td>\n",
       "      <td>Consent provided</td>\n",
       "      <td>Web</td>\n",
       "      <td>2022-12-29</td>\n",
       "      <td>Closed with explanation</td>\n",
       "      <td>Yes</td>\n",
       "      <td>NaN</td>\n",
       "      <td>6375521</td>\n",
       "    </tr>\n",
       "    <tr>\n",
       "      <th>10</th>\n",
       "      <td>2022-12-24</td>\n",
       "      <td>Checking or savings account</td>\n",
       "      <td>Checking account</td>\n",
       "      <td>Managing an account</td>\n",
       "      <td>Deposits and withdrawals</td>\n",
       "      <td>I opened up a account online XXXX weeks ago an...</td>\n",
       "      <td>Company has responded to the consumer and the ...</td>\n",
       "      <td>BMO HARRIS BANK NATIONAL ASSOCIATION</td>\n",
       "      <td>AZ</td>\n",
       "      <td>85301.0</td>\n",
       "      <td>Servicemember</td>\n",
       "      <td>Consent provided</td>\n",
       "      <td>Web</td>\n",
       "      <td>2022-12-24</td>\n",
       "      <td>Closed with explanation</td>\n",
       "      <td>Yes</td>\n",
       "      <td>NaN</td>\n",
       "      <td>6358144</td>\n",
       "    </tr>\n",
       "    <tr>\n",
       "      <th>13</th>\n",
       "      <td>2022-12-16</td>\n",
       "      <td>Credit card or prepaid card</td>\n",
       "      <td>Store credit card</td>\n",
       "      <td>Fees or interest</td>\n",
       "      <td>Unexpected increase in interest rate</td>\n",
       "      <td>When signing up with the card they never tell ...</td>\n",
       "      <td>Company has responded to the consumer and the ...</td>\n",
       "      <td>SYNCHRONY FINANCIAL</td>\n",
       "      <td>NY</td>\n",
       "      <td>11421.0</td>\n",
       "      <td>NaN</td>\n",
       "      <td>Consent provided</td>\n",
       "      <td>Web</td>\n",
       "      <td>2022-12-16</td>\n",
       "      <td>Closed with explanation</td>\n",
       "      <td>Yes</td>\n",
       "      <td>NaN</td>\n",
       "      <td>6329064</td>\n",
       "    </tr>\n",
       "    <tr>\n",
       "      <th>15</th>\n",
       "      <td>2022-12-20</td>\n",
       "      <td>Credit card or prepaid card</td>\n",
       "      <td>General-purpose credit card or charge card</td>\n",
       "      <td>Problem with a purchase shown on your statement</td>\n",
       "      <td>Credit card company isn't resolving a dispute ...</td>\n",
       "      <td>Received credit card statement dated XX/XX/22 ...</td>\n",
       "      <td>Company has responded to the consumer and the ...</td>\n",
       "      <td>U.S. BANCORP</td>\n",
       "      <td>OH</td>\n",
       "      <td>45377.0</td>\n",
       "      <td>NaN</td>\n",
       "      <td>Consent provided</td>\n",
       "      <td>Web</td>\n",
       "      <td>2022-12-20</td>\n",
       "      <td>Closed with non-monetary relief</td>\n",
       "      <td>Yes</td>\n",
       "      <td>NaN</td>\n",
       "      <td>6338237</td>\n",
       "    </tr>\n",
       "    <tr>\n",
       "      <th>17</th>\n",
       "      <td>2022-12-16</td>\n",
       "      <td>Credit reporting, credit repair services, or o...</td>\n",
       "      <td>Credit reporting</td>\n",
       "      <td>Problem with a credit reporting company's inve...</td>\n",
       "      <td>Their investigation did not fix an error on yo...</td>\n",
       "      <td>I reviewed my Consumer Reports and noticed tha...</td>\n",
       "      <td>Company has responded to the consumer and the ...</td>\n",
       "      <td>Experian Information Solutions Inc.</td>\n",
       "      <td>CA</td>\n",
       "      <td>93727.0</td>\n",
       "      <td>NaN</td>\n",
       "      <td>Consent provided</td>\n",
       "      <td>Web</td>\n",
       "      <td>2022-12-16</td>\n",
       "      <td>Closed with explanation</td>\n",
       "      <td>Yes</td>\n",
       "      <td>NaN</td>\n",
       "      <td>6323220</td>\n",
       "    </tr>\n",
       "  </tbody>\n",
       "</table>\n",
       "</div>"
      ],
      "text/plain": [
       "   Date received                                            Product  \\\n",
       "4     2022-12-29                                    Debt collection   \n",
       "10    2022-12-24                        Checking or savings account   \n",
       "13    2022-12-16                        Credit card or prepaid card   \n",
       "15    2022-12-20                        Credit card or prepaid card   \n",
       "17    2022-12-16  Credit reporting, credit repair services, or o...   \n",
       "\n",
       "                                   Sub-product  \\\n",
       "4                                I do not know   \n",
       "10                            Checking account   \n",
       "13                           Store credit card   \n",
       "15  General-purpose credit card or charge card   \n",
       "17                            Credit reporting   \n",
       "\n",
       "                                                Issue  \\\n",
       "4                   Attempts to collect debt not owed   \n",
       "10                                Managing an account   \n",
       "13                                   Fees or interest   \n",
       "15    Problem with a purchase shown on your statement   \n",
       "17  Problem with a credit reporting company's inve...   \n",
       "\n",
       "                                            Sub-issue  \\\n",
       "4                                   Debt is not yours   \n",
       "10                           Deposits and withdrawals   \n",
       "13               Unexpected increase in interest rate   \n",
       "15  Credit card company isn't resolving a dispute ...   \n",
       "17  Their investigation did not fix an error on yo...   \n",
       "\n",
       "                         Consumer complaint narrative  \\\n",
       "4   I declare under penalty of perjury ( under the...   \n",
       "10  I opened up a account online XXXX weeks ago an...   \n",
       "13  When signing up with the card they never tell ...   \n",
       "15  Received credit card statement dated XX/XX/22 ...   \n",
       "17  I reviewed my Consumer Reports and noticed tha...   \n",
       "\n",
       "                              Company public response  \\\n",
       "4   Company has responded to the consumer and the ...   \n",
       "10  Company has responded to the consumer and the ...   \n",
       "13  Company has responded to the consumer and the ...   \n",
       "15  Company has responded to the consumer and the ...   \n",
       "17  Company has responded to the consumer and the ...   \n",
       "\n",
       "                                 Company State ZIP code           Tags  \\\n",
       "4             Convergent Resources, Inc.    HI  96818.0  Servicemember   \n",
       "10  BMO HARRIS BANK NATIONAL ASSOCIATION    AZ  85301.0  Servicemember   \n",
       "13                   SYNCHRONY FINANCIAL    NY  11421.0            NaN   \n",
       "15                          U.S. BANCORP    OH  45377.0            NaN   \n",
       "17   Experian Information Solutions Inc.    CA  93727.0            NaN   \n",
       "\n",
       "   Consumer consent provided? Submitted via Date sent to company  \\\n",
       "4            Consent provided           Web           2022-12-29   \n",
       "10           Consent provided           Web           2022-12-24   \n",
       "13           Consent provided           Web           2022-12-16   \n",
       "15           Consent provided           Web           2022-12-20   \n",
       "17           Consent provided           Web           2022-12-16   \n",
       "\n",
       "       Company response to consumer Timely response? Consumer disputed?  \\\n",
       "4           Closed with explanation              Yes                NaN   \n",
       "10          Closed with explanation              Yes                NaN   \n",
       "13          Closed with explanation              Yes                NaN   \n",
       "15  Closed with non-monetary relief              Yes                NaN   \n",
       "17          Closed with explanation              Yes                NaN   \n",
       "\n",
       "    Complaint ID  \n",
       "4        6375521  \n",
       "10       6358144  \n",
       "13       6329064  \n",
       "15       6338237  \n",
       "17       6323220  "
      ]
     },
     "execution_count": 5,
     "metadata": {},
     "output_type": "execute_result"
    }
   ],
   "source": [
    "# import the dataset\n",
    "import pandas as pd\n",
    "\n",
    "ticket_data = pd.read_csv('data/complaints.csv')\n",
    "\n",
    "ticket_data.dropna(subset=[\"Consumer complaint narrative\"], inplace=True)\n",
    "\n",
    "print(ticket_data.shape)\n",
    "\n",
    "ticket_data.head()"
   ]
  },
  {
   "cell_type": "code",
   "execution_count": 7,
   "id": "104a2d38",
   "metadata": {
    "slideshow": {
     "slide_type": "subslide"
    }
   },
   "outputs": [
    {
     "data": {
      "text/plain": [
       "Product\n",
       "Bank account or service                                                         1243.543769\n",
       "Checking or savings account                                                     1326.154371\n",
       "Consumer Loan                                                                   1109.715945\n",
       "Credit card                                                                     1127.125438\n",
       "Credit card or prepaid card                                                     1260.682314\n",
       "Credit reporting                                                                 750.135087\n",
       "Credit reporting, credit repair services, or other personal consumer reports     846.862221\n",
       "Debt collection                                                                  957.419525\n",
       "Money transfer, virtual currency, or money service                              1217.202314\n",
       "Money transfers                                                                 1153.176353\n",
       "Mortgage                                                                        1651.228443\n",
       "Other financial service                                                         1233.157534\n",
       "Payday loan                                                                      747.893471\n",
       "Payday loan, title loan, or personal loan                                       1151.683676\n",
       "Prepaid card                                                                     963.180000\n",
       "Student loan                                                                    1283.149795\n",
       "Vehicle loan or lease                                                           1360.902611\n",
       "Virtual currency                                                                 940.187500\n",
       "Name: Consumer complaint narrative, dtype: float64"
      ]
     },
     "execution_count": 7,
     "metadata": {},
     "output_type": "execute_result"
    }
   ],
   "source": [
    "import numpy as np\n",
    "# a quick look at the average number of words in each complaint in each category\n",
    "ticket_data.groupby('Product')['Consumer complaint narrative'].apply(lambda x: np.mean([len(word) for word in x]))"
   ]
  },
  {
   "cell_type": "code",
   "execution_count": 9,
   "id": "42893363",
   "metadata": {
    "slideshow": {
     "slide_type": "subslide"
    }
   },
   "outputs": [
    {
     "data": {
      "text/plain": [
       "['Last month I started receiving calls from unknown numbers. They did leave a voicemail to call a number back or log on to citicards.com and they could help me. I XXXX the numbers and there were multiple people suspecting the number of fraud. So I logged on to citicards.com and there were no alerts. I sent a secure message about the calls and they gave me this reply, \" Dear XXXX, Thank you for contacting us. We appreciate each and every opportunity to serve you. \\n\\nOur records do not show that we have called you regarding your account. \\n\\nIf you think that the card information is at risk, please call Customer Service immediately. Once your closure request is processed, the current card is closed and a new card number is established. \\nXXXX. \\nIf there is any way we can be of further assistance, please feel free to contact us. \\n\\nSincerely, Account Specialist South Dakota \\'\\' So I assumed it was fraud, but the calls continued. I finally was able to answer XXXX and it said that it was a citicards account that was past due. Because of the additional time that lapsed, they reported my account as delinquent. This seems unfair since I took the exact step from their phone call and was told by Citi that they were n\\'t trying to get a hold of me. Now I have a late payment on my credit report from Citi because Citi told me they were n\\'t trying to contact me.',\n",
       " \"I was misled into thinking that I could have a XXXX alternative from XXXX in XXXX GA. They set me up with a Comenity Bank account for a debt of over {$5500.00}. After XXXX weeks I let XXXX know that I had zero results. They had me wait until a full 3 months had passed to see me, all the while I was making payments to the account. \\n\\nAfter 12 weeks XXXX got me in, took my XXXX, and took after pictures. I almost cried, I had gained XXXX and there were no differences in my pictures. I was clearly upset with the results and wanted to speak to someone. The nurse said she was sorry, suggested some natural ideas help with XXXX and said a manager would call me. \\n\\nOnce I finally heard from a manager they tried to sell me on a second round of the procedure for another $ XXXX. I refused and contacted Comenity Bank for help. \\n\\nThe service from XXXX was fraud. The pictures on the sales ads were deceptive, and it should be illegal to take advantage of consumers like this. They advertise XXXX alternative and show unrealistic before and after pictures. I had zero results and informed the company after 4 weeks to let them know. \\n\\nAfter I filed the dispute, Comenity Bank instructed me to work my issues out with XXXX. I contacted the XXXX corporate office and was told they would offer me a credit and that a manager in GA would reach out to me. \\n\\nThe manager in Georgia did reach out to me. She agreed that the service was NOT successful and offered me a store credit for future services of {$2800.00}, still wanting me to pay Comenity $ XXXX. I refused this offer and went back to Comenity bank to let them know we could not resolve this ourselves. \\n\\nI was told by the XXXX customer service that the dispute would be refiled on XX/XX/2017. I have written on the company XXXX and client portal for updates and help with no reply other than call customer service. Today I called customer service and they said they had no record of me contacting XXXX to resolve and thought they had sent a letter to inform me. The rep said she was n't sure why the letter was n't mailed and would reopen the case. \\n\\nI feel like I am getting the run around from the bank and have definitely been scammed by XXXX. PLEASE HELP ME! I have two other accounts with Comenity funded ( XXXX and XXXX ) that are paid on time and XXXX is actually paid in full. \\n\\nI have no problem paying my bills but do have a problem being taken advantage of. \\nWhen I complained on the Comenity XXXX page a consumer referred me to contact your site for help. I hope that you can help me and shut companies like this down. I wish I would have done more research before using XXXX. I see that many thousands of other people are going through this too. \\n\\nKind regards, XXXX\",\n",
       " 'I once had a credit card with Fifth Third bank, which was closed bank in XX/XX/XXXX. In XX/XX/XXXX a charge that was stored on an online account automatically tried charging the card for the renewed subscription. Instead of Fifth Third bank declining the transaction they reopened my closed credit card without my permission. Finally, after three months of not contacting me via phone, email, or mail, I received a letter in the mail saying I owed the charge of {$77.00} ( for the service ) and an extra {$100.00} for late fees. After countless hours on the phone with them, they acknowledged my credit card was closed and they reopened it. I offered to pay the initial {$77.00} fee if they would waive the late fee for not informing me, or without reopening it without my permission. They said they would look into the dispute into a better solution. After about another month they sent back a letter saying the dispute was denied and I owed the entire fee. When I called back to ask how it could have been denied, since they reopened a closed account, they said the 120 day period has passed and there is nothing they could do about it. I have since discarded the credit card because I had no use for it after I had closed the account in XX/XX/XXXX.']"
      ]
     },
     "execution_count": 9,
     "metadata": {},
     "output_type": "execute_result"
    }
   ],
   "source": [
    "ticket_data = ticket_data[ticket_data['Product'] == 'Credit card']\n",
    "\n",
    "# lets peak and look what this looks like\n",
    "\n",
    "ticket_data['Consumer complaint narrative'].iloc[:3].tolist()"
   ]
  },
  {
   "cell_type": "markdown",
   "id": "7c92c064",
   "metadata": {
    "slideshow": {
     "slide_type": "subslide"
    }
   },
   "source": [
    "## Preprocessing"
   ]
  },
  {
   "cell_type": "code",
   "execution_count": 10,
   "id": "8053a029",
   "metadata": {
    "slideshow": {
     "slide_type": "fragment"
    }
   },
   "outputs": [],
   "source": [
    "from gensim.parsing.preprocessing import preprocess_string, strip_tags, strip_punctuation, strip_numeric, remove_stopwords, strip_short, stem_text\n",
    "\n",
    "def basic_preprocess(list_of_strings):\n",
    "    \"\"\"\n",
    "    A basic function that takes a list of strings and runs some basic\n",
    "    gensim preprocessing to tokenise each string.\n",
    "    \n",
    "    Operations:\n",
    "        - convert to lowercase\n",
    "        - remove html tags\n",
    "        - remove punctuation\n",
    "        - remove numbers\n",
    "        - remove short tokens (less than 3 characters)\n",
    "    \n",
    "    Outputs a list of lists\n",
    "    \"\"\"\n",
    "    \n",
    "    CUSTOM_FILTERS = [lambda x: x.lower(), strip_tags, strip_punctuation, strip_numeric, remove_stopwords, strip_short]\n",
    "\n",
    "    preproc_text = [preprocess_string(doc, CUSTOM_FILTERS) for doc in list_of_strings]\n",
    "    \n",
    "    return preproc_text"
   ]
  },
  {
   "cell_type": "code",
   "execution_count": 11,
   "id": "b60bfda2",
   "metadata": {
    "slideshow": {
     "slide_type": "subslide"
    }
   },
   "outputs": [],
   "source": [
    "import re\n",
    "\n",
    "def remove_twitterisms(list_of_strings):\n",
    "    \"\"\"\n",
    "    Some regular expression statements to remove twitter-isms\n",
    "    \n",
    "    Operations:\n",
    "        - remove links\n",
    "        - remove @tag\n",
    "        - remove #tag\n",
    "        \n",
    "    Returns list of strings with the above removed\n",
    "    \"\"\"\n",
    "    \n",
    "    # removing some standard twitter-isms\n",
    "\n",
    "    list_of_strings = [re.sub(r\"http\\S+\", \"\", doc) for doc in list_of_strings]\n",
    "\n",
    "    list_of_strings = [re.sub(r\"@\\S+\", \"\", doc) for doc in list_of_strings]\n",
    "\n",
    "    list_of_strings = [re.sub(r\"#\\S+\", \"\", doc) for doc in list_of_strings]\n",
    "    \n",
    "    return list_of_strings"
   ]
  },
  {
   "cell_type": "code",
   "execution_count": 12,
   "id": "7d39d691",
   "metadata": {
    "slideshow": {
     "slide_type": "subslide"
    }
   },
   "outputs": [],
   "source": [
    "# removing emojis\n",
    "# taken from https://gist.github.com/slowkow/7a7f61f495e3dbb7e3d767f97bd7304b#gistcomment-3315605\n",
    "\n",
    "def remove_emoji(string):\n",
    "    emoji_pattern = re.compile(\"[\"\n",
    "                               u\"\\U0001F600-\\U0001F64F\"  # emoticons\n",
    "                               u\"\\U0001F300-\\U0001F5FF\"  # symbols & pictographs\n",
    "                               u\"\\U0001F680-\\U0001F6FF\"  # transport & map symbols\n",
    "                               u\"\\U0001F1E0-\\U0001F1FF\"  # flags (iOS)\n",
    "                               u\"\\U00002500-\\U00002BEF\"  # chinese char\n",
    "                               u\"\\U00002702-\\U000027B0\"\n",
    "                               u\"\\U00002702-\\U000027B0\"\n",
    "                               u\"\\U000024C2-\\U0001F251\"\n",
    "                               u\"\\U0001f926-\\U0001f937\"\n",
    "                               u\"\\U00010000-\\U0010ffff\"\n",
    "                               u\"\\u2640-\\u2642\"\n",
    "                               u\"\\u2600-\\u2B55\"\n",
    "                               u\"\\u200d\"\n",
    "                               u\"\\u23cf\"\n",
    "                               u\"\\u23e9\"\n",
    "                               u\"\\u231a\"\n",
    "                               u\"\\ufe0f\"  # dingbats\n",
    "                               u\"\\u3030\"\n",
    "                               \"]+\", flags=re.UNICODE)\n",
    "    return emoji_pattern.sub(r'', string)"
   ]
  },
  {
   "cell_type": "code",
   "execution_count": 13,
   "id": "18b66899",
   "metadata": {
    "slideshow": {
     "slide_type": "subslide"
    }
   },
   "outputs": [],
   "source": [
    "def remove_redacted(string):\n",
    "    \n",
    "    string = [re.sub(r\"(x|X){2,}\", \"\", doc) for doc in string]\n",
    "    \n",
    "    return string"
   ]
  },
  {
   "cell_type": "code",
   "execution_count": 14,
   "id": "2d8b440b",
   "metadata": {
    "slideshow": {
     "slide_type": "subslide"
    }
   },
   "outputs": [],
   "source": [
    "from gensim.models.phrases import Phrases\n",
    "\n",
    "def n_gram(tokens):\n",
    "    \"\"\"Identifies common two/three word phrases using gensim module.\"\"\"\n",
    "    # Add bigrams and trigrams to docs (only ones that appear 10 times or more).\n",
    "    # includes threshold kwarg (threshold score required by bigram)\n",
    "    bigram = Phrases(tokens, min_count=10, threshold=100)\n",
    "    trigram = Phrases(bigram[tokens], threshold = 100)\n",
    "\n",
    "    for idx, val in enumerate(tokens):\n",
    "        for token in bigram[tokens[idx]]:\n",
    "            if '_' in token:\n",
    "                if token not in tokens[idx]:\n",
    "                    # Token is a bigram, add to document.bigram\n",
    "                    tokens[idx].append(token)\n",
    "        for token in trigram[tokens[idx]]:\n",
    "            if '_' in token:\n",
    "                if token not in tokens[idx]:\n",
    "                    # Token is a trigram, add to document.\n",
    "                    tokens[idx].append(token)\n",
    "    return tokens"
   ]
  },
  {
   "cell_type": "code",
   "execution_count": 15,
   "id": "b8da3037",
   "metadata": {
    "slideshow": {
     "slide_type": "subslide"
    }
   },
   "outputs": [
    {
     "name": "stderr",
     "output_type": "stream",
     "text": [
      "[nltk_data] Downloading package wordnet to /home/medacola/nltk_data...\n"
     ]
    }
   ],
   "source": [
    "import nltk\n",
    "from nltk.stem import WordNetLemmatizer\n",
    "nltk.download('wordnet')\n",
    "\n",
    "def lemmatise(words):\n",
    "    \"\"\"\n",
    "    Convert words to their lemma or root using WordNet lemmatizer\n",
    "    \"\"\"\n",
    "    lemma = WordNetLemmatizer()\n",
    "    # this function takes a list of lists of tokens\n",
    "    return [[lemma.lemmatize(token,'v') for token in tokens] for tokens in words]"
   ]
  },
  {
   "cell_type": "code",
   "execution_count": 16,
   "id": "00136277",
   "metadata": {
    "slideshow": {
     "slide_type": "subslide"
    }
   },
   "outputs": [],
   "source": [
    "# lets slice out the text data from our dataframe\n",
    "subsample_text = ticket_data['Consumer complaint narrative'].tolist()"
   ]
  },
  {
   "cell_type": "code",
   "execution_count": 17,
   "id": "b40e1a06",
   "metadata": {
    "slideshow": {
     "slide_type": "subslide"
    }
   },
   "outputs": [],
   "source": [
    "# next we implement the preprocessing functions on our data\n",
    "\n",
    "preprocessed_corpus = remove_twitterisms(subsample_text)\n",
    "\n",
    "preprocessed_corpus = remove_redacted(preprocessed_corpus)\n",
    "\n",
    "preprocessed_corpus = [remove_emoji(doc) for doc in preprocessed_corpus]\n",
    "\n",
    "preprocessed_corpus = basic_preprocess(preprocessed_corpus)\n",
    "\n",
    "preprocessed_corpus = lemmatise(preprocessed_corpus)"
   ]
  },
  {
   "cell_type": "code",
   "execution_count": 20,
   "id": "bf5ba496",
   "metadata": {
    "slideshow": {
     "slide_type": "subslide"
    }
   },
   "outputs": [
    {
     "name": "stdout",
     "output_type": "stream",
     "text": [
      "Last month I started receiving calls from unknown numbers. They did leave a voicemail to call a number back or log on to citicards.com and they could help me. I XXXX the numbers and there were multiple people suspecting the number of fraud. So I logged on to citicards.com and there were no alerts. I sent a secure message about the calls and they gave me this reply, \" Dear XXXX, Thank you for contacting us. We appreciate each and every opportunity to serve you. \n",
      "\n",
      "Our records do not show that we have called you regarding your account. \n",
      "\n",
      "If you think that the card information is at risk, please call Customer Service immediately. Once your closure request is processed, the current card is closed and a new card number is established. \n",
      "XXXX. \n",
      "If there is any way we can be of further assistance, please feel free to contact us. \n",
      "\n",
      "Sincerely, Account Specialist South Dakota '' So I assumed it was fraud, but the calls continued. I finally was able to answer XXXX and it said that it was a citicards account that was past due. Because of the additional time that lapsed, they reported my account as delinquent. This seems unfair since I took the exact step from their phone call and was told by Citi that they were n't trying to get a hold of me. Now I have a late payment on my credit report from Citi because Citi told me they were n't trying to contact me.\n",
      "-------------------------\n",
      "['month', 'start', 'receive', 'call', 'unknown', 'number', 'leave', 'voicemail', 'number', 'log', 'citicards', 'com', 'help', 'number', 'multiple', 'people', 'suspect', 'number', 'fraud', 'log', 'citicards', 'com', 'alert', 'send', 'secure', 'message', 'call', 'give', 'reply', 'dear', 'thank', 'contact', 'appreciate', 'opportunity', 'serve', 'record', 'call', 'account', 'think', 'card', 'information', 'risk', 'customer', 'service', 'immediately', 'closure', 'request', 'process', 'current', 'card', 'close', 'new', 'card', 'number', 'establish', 'way', 'assistance', 'feel', 'free', 'contact', 'sincerely', 'account', 'specialist', 'south', 'dakota', 'assume', 'fraud', 'call', 'continue', 'finally', 'able', 'answer', 'say', 'citicards', 'account', 'past', 'additional', 'time', 'lapse', 'report', 'account', 'delinquent', 'unfair', 'take', 'exact', 'step', 'phone', 'tell', 'citi', 'try', 'hold', 'late', 'payment', 'credit', 'report', 'citi', 'citi', 'tell', 'try', 'contact']\n"
     ]
    }
   ],
   "source": [
    "# lets compare the original strings to the preprocessed strings\n",
    "\n",
    "print(subsample_text[0])\n",
    "print(\"-------------------------\")\n",
    "print(preprocessed_corpus[0])"
   ]
  },
  {
   "cell_type": "code",
   "execution_count": 22,
   "id": "923fd447",
   "metadata": {
    "slideshow": {
     "slide_type": "subslide"
    }
   },
   "outputs": [
    {
     "name": "stdout",
     "output_type": "stream",
     "text": [
      "I once had a credit card with Fifth Third bank, which was closed bank in XX/XX/XXXX. In XX/XX/XXXX a charge that was stored on an online account automatically tried charging the card for the renewed subscription. Instead of Fifth Third bank declining the transaction they reopened my closed credit card without my permission. Finally, after three months of not contacting me via phone, email, or mail, I received a letter in the mail saying I owed the charge of {$77.00} ( for the service ) and an extra {$100.00} for late fees. After countless hours on the phone with them, they acknowledged my credit card was closed and they reopened it. I offered to pay the initial {$77.00} fee if they would waive the late fee for not informing me, or without reopening it without my permission. They said they would look into the dispute into a better solution. After about another month they sent back a letter saying the dispute was denied and I owed the entire fee. When I called back to ask how it could have been denied, since they reopened a closed account, they said the 120 day period has passed and there is nothing they could do about it. I have since discarded the credit card because I had no use for it after I had closed the account in XX/XX/XXXX.\n",
      "-------------------------\n",
      "['credit', 'card', 'fifth', 'bank', 'close', 'bank', 'charge', 'store', 'online', 'account', 'automatically', 'try', 'charge', 'card', 'renew', 'subscription', 'instead', 'fifth', 'bank', 'decline', 'transaction', 'reopen', 'close', 'credit', 'card', 'permission', 'finally', 'months', 'contact', 'phone', 'email', 'mail', 'receive', 'letter', 'mail', 'say', 'owe', 'charge', 'service', 'extra', 'late', 'fee', 'countless', 'hours', 'phone', 'acknowledge', 'credit', 'card', 'close', 'reopen', 'offer', 'pay', 'initial', 'fee', 'waive', 'late', 'fee', 'inform', 'reopen', 'permission', 'say', 'look', 'dispute', 'better', 'solution', 'month', 'send', 'letter', 'say', 'dispute', 'deny', 'owe', 'entire', 'fee', 'call', 'ask', 'deny', 'reopen', 'close', 'account', 'say', 'day', 'period', 'pass', 'discard', 'credit', 'card', 'use', 'close', 'account']\n"
     ]
    }
   ],
   "source": [
    "print(subsample_text[2])\n",
    "print(\"-------------------------\")\n",
    "print(preprocessed_corpus[2])"
   ]
  },
  {
   "cell_type": "code",
   "execution_count": 26,
   "id": "74c434c9",
   "metadata": {
    "slideshow": {
     "slide_type": "subslide"
    }
   },
   "outputs": [
    {
     "data": {
      "image/png": "[encoded data removed]",
      "text/plain": [
       "<Figure size 1000x600 with 1 Axes>"
      ]
     },
     "metadata": {},
     "output_type": "display_data"
    },
    {
     "data": {
      "text/plain": [
       "<AxesSubplot: xlabel='Samples', ylabel='Counts'>"
      ]
     },
     "execution_count": 26,
     "metadata": {},
     "output_type": "execute_result"
    }
   ],
   "source": [
    "import nltk\n",
    "import matplotlib.pyplot as plt\n",
    "flat_list = [item for sublist in preprocessed_corpus for item in sublist]\n",
    "text = nltk.Text(flat_list)\n",
    "fdist = nltk.FreqDist(text)\n",
    "plt.figure(figsize=(10,6))\n",
    "fdist.plot(50)"
   ]
  },
  {
   "cell_type": "markdown",
   "id": "f1d75114",
   "metadata": {
    "slideshow": {
     "slide_type": "slide"
    }
   },
   "source": [
    "## But notebooks can be hard to reproduce"
   ]
  },
  {
   "cell_type": "code",
   "execution_count": 37,
   "id": "b3694d22",
   "metadata": {
    "slideshow": {
     "slide_type": "subslide"
    }
   },
   "outputs": [],
   "source": [
    "def sum(x): return x + x"
   ]
  },
  {
   "cell_type": "code",
   "execution_count": 38,
   "id": "c7822486",
   "metadata": {
    "slideshow": {
     "slide_type": "fragment"
    }
   },
   "outputs": [],
   "source": [
    "xx = sum(2)"
   ]
  },
  {
   "cell_type": "code",
   "execution_count": 39,
   "id": "cf699567",
   "metadata": {
    "slideshow": {
     "slide_type": "skip"
    }
   },
   "outputs": [],
   "source": [
    "xx = sum(4)"
   ]
  },
  {
   "cell_type": "code",
   "execution_count": 40,
   "id": "330faed2",
   "metadata": {
    "slideshow": {
     "slide_type": "fragment"
    }
   },
   "outputs": [
    {
     "data": {
      "text/plain": [
       "False"
      ]
     },
     "execution_count": 40,
     "metadata": {},
     "output_type": "execute_result"
    }
   ],
   "source": [
    "xx == 4"
   ]
  },
  {
   "cell_type": "markdown",
   "id": "033ff889",
   "metadata": {
    "slideshow": {
     "slide_type": "subslide"
    }
   },
   "source": [
    "## Importing from other notebooks"
   ]
  },
  {
   "cell_type": "markdown",
   "id": "3dd0ac7f",
   "metadata": {
    "slideshow": {
     "slide_type": "subslide"
    }
   },
   "source": [
    "## Not sharing data with notebooks"
   ]
  },
  {
   "cell_type": "markdown",
   "id": "98d45a2f",
   "metadata": {
    "slideshow": {
     "slide_type": "slide"
    }
   },
   "source": [
    "## But there are steps you can take to improve reproducibility"
   ]
  },
  {
   "cell_type": "markdown",
   "id": "7c9472d9",
   "metadata": {
    "slideshow": {
     "slide_type": "subslide"
    }
   },
   "source": [
    "## Binder/ repo2Docker"
   ]
  },
  {
   "cell_type": "markdown",
   "id": "543b59fb",
   "metadata": {
    "slideshow": {
     "slide_type": "subslide"
    }
   },
   "source": [
    "## Julynter"
   ]
  },
  {
   "cell_type": "markdown",
   "id": "9d74bd3b",
   "metadata": {
    "slideshow": {
     "slide_type": "subslide"
    }
   },
   "source": [
    "## Know when to use notebooks v writing a library"
   ]
  },
  {
   "cell_type": "code",
   "execution_count": null,
   "id": "2b3504b9",
   "metadata": {},
   "outputs": [],
   "source": []
  }
 ],
 "metadata": {
  "celltoolbar": "Slideshow",
  "kernelspec": {
   "display_name": "Python 3 (ipykernel)",
   "language": "python",
   "name": "python3"
  },
  "language_info": {
   "codemirror_mode": {
    "name": "ipython",
    "version": 3
   },
   "file_extension": ".py",
   "mimetype": "text/x-python",
   "name": "python",
   "nbconvert_exporter": "python",
   "pygments_lexer": "ipython3",
   "version": "3.10.8"
  }
 },
 "nbformat": 4,
 "nbformat_minor": 5
}
